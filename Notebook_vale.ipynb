{
  "nbformat": 4,
  "nbformat_minor": 0,
  "metadata": {
    "colab": {
      "provenance": [],
      "toc_visible": true,
      "authorship_tag": "ABX9TyPi8Wj9U8pKMTxCe+nxEbJe",
      "include_colab_link": true
    },
    "kernelspec": {
      "name": "python3",
      "display_name": "Python 3"
    },
    "language_info": {
      "name": "python"
    }
  },
  "cells": [
    {
      "cell_type": "markdown",
      "metadata": {
        "id": "view-in-github",
        "colab_type": "text"
      },
      "source": [
        "<a href=\"https://colab.research.google.com/github/hivalerieee/intro-github/blob/main/Notebook_vale.ipynb\" target=\"_parent\"><img src=\"https://colab.research.google.com/assets/colab-badge.svg\" alt=\"Open In Colab\"/></a>"
      ]
    },
    {
      "cell_type": "code",
      "source": [
        "print(\"Hello world\")\n",
        "print(\"Bonjour le monde\")\n",
        "print(\"Hola mundo\")\n",
        "\n"
      ],
      "metadata": {
        "colab": {
          "base_uri": "https://localhost:8080/"
        },
        "id": "0ZS4vOitVwGP",
        "outputId": "5f2516e8-033d-4ba8-fd9e-e3bb0739a5bb"
      },
      "execution_count": null,
      "outputs": [
        {
          "output_type": "stream",
          "name": "stdout",
          "text": [
            "Hello world\n",
            "Bonjour le monde\n",
            "Hola mundo\n"
          ]
        }
      ]
    },
    {
      "cell_type": "code",
      "source": [
        "a= 10\n",
        "x= a<3\n",
        "print(x)"
      ],
      "metadata": {
        "colab": {
          "base_uri": "https://localhost:8080/"
        },
        "id": "xZL3Qh9ljAVq",
        "outputId": "bb149af6-aaf6-4b17-c1c2-4beec2cc16c5"
      },
      "execution_count": null,
      "outputs": [
        {
          "output_type": "stream",
          "name": "stdout",
          "text": [
            "False\n"
          ]
        }
      ]
    },
    {
      "cell_type": "markdown",
      "source": [
        "Instrucciones de asignacion de variables:\n",
        "**Python:**Variable=valor\n",
        "\n",
        "\n"
      ],
      "metadata": {
        "id": "mBLjARPNadDQ"
      }
    },
    {
      "cell_type": "markdown",
      "source": [
        "# 1.Conceptos basicos\n",
        "   \n",
        "*   Operaciones basicas\n",
        "*   Asignacion de variables\n",
        "*   Entradas y salidas\n",
        "*   Funciones predeterminadas\n",
        "\n",
        "\n"
      ],
      "metadata": {
        "id": "akhg1ADsn4CR"
      }
    },
    {
      "cell_type": "code",
      "source": [
        "#Residuo de una division entera\n",
        "10%3"
      ],
      "metadata": {
        "colab": {
          "base_uri": "https://localhost:8080/"
        },
        "id": "qjvqFSAQ4SHa",
        "outputId": "af400531-d8a9-4307-cbd1-b29421ce4458"
      },
      "execution_count": null,
      "outputs": [
        {
          "output_type": "execute_result",
          "data": {
            "text/plain": [
              "1"
            ]
          },
          "metadata": {},
          "execution_count": 1
        }
      ]
    },
    {
      "cell_type": "code",
      "source": [
        "#Potenciacion\n",
        "3 ** 2"
      ],
      "metadata": {
        "colab": {
          "base_uri": "https://localhost:8080/"
        },
        "id": "RSBGAmvA4dk5",
        "outputId": "fed2c52f-4e1f-4bb8-a9ae-69eb032b2baf"
      },
      "execution_count": null,
      "outputs": [
        {
          "output_type": "execute_result",
          "data": {
            "text/plain": [
              "9"
            ]
          },
          "metadata": {},
          "execution_count": 3
        }
      ]
    },
    {
      "cell_type": "code",
      "source": [
        "a,b,c=1,3,6"
      ],
      "metadata": {
        "id": "QIZpca4idJlh"
      },
      "execution_count": null,
      "outputs": []
    },
    {
      "cell_type": "code",
      "source": [
        "a + b - c"
      ],
      "metadata": {
        "colab": {
          "base_uri": "https://localhost:8080/"
        },
        "id": "u113hQqtdEtZ",
        "outputId": "7a158bdd-e0a0-44dc-ec1c-77dc4852bbec"
      },
      "execution_count": null,
      "outputs": [
        {
          "output_type": "execute_result",
          "data": {
            "text/plain": [
              "-2"
            ]
          },
          "metadata": {},
          "execution_count": 7
        }
      ]
    },
    {
      "cell_type": "markdown",
      "source": [
        "Print,float,int,var: funciones predeterminadas"
      ],
      "metadata": {
        "id": "hkJogkBSeR_s"
      }
    },
    {
      "cell_type": "markdown",
      "source": [
        "**Entradas:**Se utiliza la funcion <input( )> para determinar un valor"
      ],
      "metadata": {
        "id": "4NtTvVjTedFL"
      }
    },
    {
      "cell_type": "code",
      "source": [
        "nombre=input()"
      ],
      "metadata": {
        "colab": {
          "base_uri": "https://localhost:8080/"
        },
        "id": "CzdFCNJMfJhm",
        "outputId": "46cbeb15-d629-4078-cd6c-372f33224cd0"
      },
      "execution_count": null,
      "outputs": [
        {
          "name": "stdout",
          "output_type": "stream",
          "text": [
            "vale\n"
          ]
        }
      ]
    },
    {
      "cell_type": "code",
      "source": [
        "nombre"
      ],
      "metadata": {
        "colab": {
          "base_uri": "https://localhost:8080/",
          "height": 35
        },
        "id": "ZRM2kEmKfgcV",
        "outputId": "0b46ff10-4703-4d12-eada-cfa91b4e62b9"
      },
      "execution_count": null,
      "outputs": [
        {
          "output_type": "execute_result",
          "data": {
            "text/plain": [
              "'vale'"
            ],
            "application/vnd.google.colaboratory.intrinsic+json": {
              "type": "string"
            }
          },
          "metadata": {},
          "execution_count": 18
        }
      ]
    },
    {
      "cell_type": "code",
      "source": [
        "nombre='valerie'\n",
        "edad=26"
      ],
      "metadata": {
        "id": "98LNA59v-6Hz"
      },
      "execution_count": null,
      "outputs": []
    },
    {
      "cell_type": "markdown",
      "source": [
        "**Salida:**se pueden usar cadenas de caracter con un prefijo f, que personaliza la salida. Print se utiliza para producir salidas. Sep=' - ' sirve para separar los ingresos del codigo. sep=\n"
      ],
      "metadata": {
        "id": "a_E4E-Zt-QXM"
      }
    },
    {
      "cell_type": "code",
      "source": [
        "print(f'la edad de {nombre} es {edad} años')"
      ],
      "metadata": {
        "colab": {
          "base_uri": "https://localhost:8080/"
        },
        "id": "jI1d_wIg-qtr",
        "outputId": "0299cc46-5902-440c-c54e-c0dd28a94619"
      },
      "execution_count": null,
      "outputs": [
        {
          "output_type": "stream",
          "name": "stdout",
          "text": [
            "la edad de valerie es 26 años\n"
          ]
        }
      ]
    },
    {
      "cell_type": "code",
      "source": [
        "print('la edad de',nombre,'es',edad,sep='-')"
      ],
      "metadata": {
        "colab": {
          "base_uri": "https://localhost:8080/"
        },
        "id": "aFFeRk01_uBK",
        "outputId": "82960517-cc30-4a0e-9d33-568c5fc8db50"
      },
      "execution_count": null,
      "outputs": [
        {
          "output_type": "stream",
          "name": "stdout",
          "text": [
            "la edad de-valerie-es-26\n"
          ]
        }
      ]
    },
    {
      "cell_type": "code",
      "source": [
        "valor_pi=3.14159\n",
        "pi_cuadrado=valor_pi**2\n"
      ],
      "metadata": {
        "id": "a9QYzdQlAQGK"
      },
      "execution_count": null,
      "outputs": []
    },
    {
      "cell_type": "code",
      "source": [
        "print('el valor de pi es %s, y su cuadrado es %.3f' %(valor_pi,pi_cuadrado))"
      ],
      "metadata": {
        "colab": {
          "base_uri": "https://localhost:8080/"
        },
        "id": "eq3yHQv5BWOa",
        "outputId": "a7716ebf-d9dd-4cb0-af1d-4931fc78871a"
      },
      "execution_count": null,
      "outputs": [
        {
          "output_type": "stream",
          "name": "stdout",
          "text": [
            "el valor de pi es 3.14159, y su cuadrado es 9.870\n"
          ]
        }
      ]
    },
    {
      "cell_type": "markdown",
      "source": [
        "Asignacion de variables multiples\n"
      ],
      "metadata": {
        "id": "dbS1uyl-CW72"
      }
    },
    {
      "cell_type": "code",
      "source": [
        "#Suponga que tienes dos variables a y b, ¿cómo podrías intercambiar el contenido\n",
        "#de las variables?. Por ejemplo, si inicialmente a=10 y b=20, el código que\n",
        "#implementes debe hacer que el contenido se intercambie haciendo que a=20 y b=10,\n",
        "# no utilices asignación múltiple.\n",
        "\n",
        "#Variables\n",
        "a=10\n",
        "b=20\n",
        "\n",
        "#muestra el valor de cada variable\n",
        "print(f'el valor de a es {a}, el valor de b es {b}')\n",
        "\n",
        "#operar\n",
        "a=a+b\n",
        "b=a-b\n",
        "a=a-b\n",
        "\n",
        "\n",
        "print(f'el valor de a es {a}, el valor de b es {b}')\n",
        "\n",
        "#Utilizando variables multiples\n",
        "a,b=b,a\n",
        "print(f'el valor de a es {a}, el valor de b es {b}')"
      ],
      "metadata": {
        "colab": {
          "base_uri": "https://localhost:8080/"
        },
        "id": "VSiiS443Di1x",
        "outputId": "dd1f9fe1-9259-4fac-fbf2-27f2caf9f545"
      },
      "execution_count": null,
      "outputs": [
        {
          "output_type": "stream",
          "name": "stdout",
          "text": [
            "el valor de a es 10, el valor de b es 20\n",
            "el valor de a es 20, el valor de b es 10\n",
            "el valor de a es 10, el valor de b es 20\n"
          ]
        }
      ]
    },
    {
      "cell_type": "markdown",
      "source": [
        "**Funciones predeterminadas**\n",
        "conjunto de funciones que estan prediseñadas, es decir, no es necesario importar ninguna libreria para usarlas. Por ejemplo, la función `input()` es una función predefinida.\n",
        "\n",
        "| Función \t| Descrpición \t|\n",
        "|----------\t|---------------------------------------------------------------------\t|\n",
        "| abs() \t| Retorna el valor absoluto de un número \t|\n",
        "| divmod() \t| Retorna una tupla con el cociente  y el residuo de la división entera \t|\n",
        "| max() \t| Retorna el máximo de una colección de datos \t|\n",
        "| min() \t| Retorna el mínimo de una colección de datos \t|\n",
        "| pow() \t| eleva un número a una potencia dada\t|\n",
        "| round() \t| Redondea un número a su entero más cercano\t|\n",
        "| complex() | Retorna el número complejo con el valor real + imag*1j|\n",
        "\n",
        "Funciones basicas: Print, int float, var, min, max\n",
        "\n"
      ],
      "metadata": {
        "id": "FeMlPRBJG590"
      }
    },
    {
      "cell_type": "code",
      "source": [
        "a=6\n",
        "b=2\n",
        "c=divmod(a,b)\n",
        "print('la division de entre a y b es ',c)"
      ],
      "metadata": {
        "colab": {
          "base_uri": "https://localhost:8080/"
        },
        "id": "8Mha3I9QIIvb",
        "outputId": "a7c46c83-83e3-416c-ce06-4d29d835a4be"
      },
      "execution_count": null,
      "outputs": [
        {
          "output_type": "stream",
          "name": "stdout",
          "text": [
            "la division de entre a y b es  (3, 0)\n"
          ]
        }
      ]
    },
    {
      "cell_type": "code",
      "source": [
        "resultado = divmod(abs(pow(-21,3)),5)\n",
        "resultado\n"
      ],
      "metadata": {
        "colab": {
          "base_uri": "https://localhost:8080/"
        },
        "id": "tgMCqD5HIn2T",
        "outputId": "e8331d22-ee3f-458b-c32f-ceddc4355575"
      },
      "execution_count": null,
      "outputs": [
        {
          "output_type": "execute_result",
          "data": {
            "text/plain": [
              "(1852, 1)"
            ]
          },
          "metadata": {},
          "execution_count": 46
        }
      ]
    },
    {
      "cell_type": "markdown",
      "source": [
        " **Importacion de librerias**\n",
        "\n",
        "> Opcion 1: importar con el nombre directo\n",
        "\n",
        ">\n",
        "\n",
        "```\n",
        "import math\n",
        "```\n",
        "\n",
        "> Opcion 2: importar con un alias\n",
        "\n",
        "\n",
        "```\n",
        "import numpy as np\n",
        "```\n",
        "\n",
        "> Importar funciones directamente de una libreria, tambien se puede poner un aliaz a la funcion\n",
        "\n",
        "\n",
        "```\n",
        "from numpy import sqrt, from numpy import sqrt as raiz\n",
        "```\n",
        "\n",
        "\n",
        "\n",
        "\n",
        "\n",
        "\n",
        "\n",
        "\n",
        "\n",
        "\n",
        "\n",
        "\n",
        "\n",
        "\n",
        "\n",
        "\n"
      ],
      "metadata": {
        "id": "d7iscvlQDZCa"
      }
    },
    {
      "cell_type": "code",
      "source": [
        "import math"
      ],
      "metadata": {
        "id": "22bG0tflLT4r"
      },
      "execution_count": null,
      "outputs": []
    },
    {
      "cell_type": "code",
      "source": [
        "import numpy as np"
      ],
      "metadata": {
        "id": "D5_goAHDLq_M"
      },
      "execution_count": null,
      "outputs": []
    },
    {
      "cell_type": "code",
      "source": [
        "from numpy import sqrt\n",
        "sqrt(16)"
      ],
      "metadata": {
        "colab": {
          "base_uri": "https://localhost:8080/"
        },
        "id": "jxOKsUlWMA8n",
        "outputId": "20f14a23-800d-4d73-ddd8-2d0f8f5bb0ee"
      },
      "execution_count": null,
      "outputs": [
        {
          "output_type": "execute_result",
          "data": {
            "text/plain": [
              "4.0"
            ]
          },
          "metadata": {},
          "execution_count": 47
        }
      ]
    },
    {
      "cell_type": "code",
      "source": [
        "a=input ( 'cantidad en pesos' )\n",
        "b=input ( 'valor del dolar' )\n",
        "c= float(a)/float(b)\n",
        "print(f'la cantidad en dolares es', c)"
      ],
      "metadata": {
        "colab": {
          "base_uri": "https://localhost:8080/"
        },
        "id": "WmTtf2tmOI3t",
        "outputId": "1d355882-db1f-4b84-ed11-10827bc482f6"
      },
      "execution_count": null,
      "outputs": [
        {
          "output_type": "stream",
          "name": "stdout",
          "text": [
            "cantidad en pesos1000000\n",
            "valor del dolar4000\n",
            "la cantidad en dolares es 250.0\n"
          ]
        }
      ]
    },
    {
      "cell_type": "markdown",
      "source": [
        "# Ejercicio 1:\n"
      ],
      "metadata": {
        "id": "TGzX26MTAwxw"
      }
    },
    {
      "cell_type": "markdown",
      "source": [
        "Para tres variables diferentes a=10, b=7 y c=3, responda las siguientes preguntas escribiendo las instrucciones apropiadas y mostrando su resultado.\n",
        "\n",
        "\n",
        "\n",
        "1.   ¿a es igual a b + c?\n",
        "2. ¿a menos c es diferente a b?\n",
        "3. ¿b es mayor que a?\n",
        "4. ¿c es menor que a?\n",
        "5. ¿a*b es mayor o igual c?\n",
        "6. ¿2 veces a es mayor o igual que b * c?\n",
        "\n",
        "\n",
        "\n"
      ],
      "metadata": {
        "id": "RuyhOqRvBAYj"
      }
    },
    {
      "cell_type": "code",
      "source": [
        "a=10\n",
        "b=7\n",
        "c=3\n",
        "#Operar\n",
        "b+c\n",
        "print(f'1. El valor de a es {a}, y el valor de c+b es {c+b}')\n",
        "a-c\n",
        "print(f'2. El valor de b es {b} y el valor de a-c es {a-c} por lo tanto a-c No es diferente a b')\n",
        "print(f'3. El valor de b es {b} y el valor de a es {a} por lo tanto b no es mayor que a')\n",
        "print(f'4. El valor de c es {c} y el valor de a es {a} por lo tanto c es menor que a')\n",
        "print(f'5. El valor de a*b es {a*b} y el valor de c es {c} por lo tanto a*b es mayor que c')\n",
        "print(f'elvalor de 2veces a es {2*a} y el valor de b*c es {b*c} porlo tanto b*c>2a')\n"
      ],
      "metadata": {
        "colab": {
          "base_uri": "https://localhost:8080/"
        },
        "id": "yYwkpjpWDH59",
        "outputId": "bbf1a3b3-a5ef-46b2-ad29-a0384fe39eb9"
      },
      "execution_count": null,
      "outputs": [
        {
          "output_type": "stream",
          "name": "stdout",
          "text": [
            "1. El valor de a es 10, y el valor de c+b es 10\n",
            "2. El valor de b es 7 y el valor de a-c es 7 por lo tanto a-c No es diferente a b\n",
            "3. El valor de b es 7 y el valor de a es 10 por lo tanto b no es mayor que a\n",
            "4. El valor de c es 3 y el valor de a es 10 por lo tanto c es menor que a\n",
            "5. El valor de a*b es 70 y el valor de c es 3 por lo tanto a*b es mayor que c\n",
            "elvalor de 2veces a es 20 y el valor de b*c es 21 porlo tanto b*c>2a\n"
          ]
        }
      ]
    },
    {
      "cell_type": "markdown",
      "source": [
        "# Ejercicios de clase"
      ],
      "metadata": {
        "id": "RFLSwMWeRXYD"
      }
    },
    {
      "cell_type": "markdown",
      "source": [
        "Ejercicio 8: Considere un programa que dados dos números, el primero de ellos correspondiente al número total de kilos que deben empacarse en cajas (a = 207kg) y la capacidad en kilos de cada caja (b = 12 kilos).\n",
        "\n",
        "\n",
        "\n",
        "*  Calcule el número de cajas necesarias para empacar toda la mercancía\n",
        "*  Calcule la cantidad que quedaría sin empacar si solo pueden despacharse cajas completas\n",
        "\n",
        "\n",
        "*   Determine el número de cajas necesarias para empacar toda la mercancía\n"
      ],
      "metadata": {
        "id": "VwNyKYXmReyT"
      }
    },
    {
      "cell_type": "code",
      "source": [],
      "metadata": {
        "id": "NzjbSL0PTP_S"
      },
      "execution_count": null,
      "outputs": []
    },
    {
      "cell_type": "markdown",
      "source": [
        "# Estructuras de datos\n",
        "\n",
        "\n",
        "*   Variables y operadores\n",
        "*   Tipos de datos\n",
        "*   Tipos de operadores\n",
        "*   Strings\n",
        "\n"
      ],
      "metadata": {
        "id": "kknzCtYFUF_K"
      }
    },
    {
      "cell_type": "markdown",
      "source": [
        "**Cadenas de caracteres: strings**\n",
        "\n",
        "\n",
        "1.   Creación: comillas simples (''), comillas dobles (\"\"), comillas triples(\"\"\"_\"\"\"), caracteres vacios\n",
        "2. Longitud: funcion len(), sirve para contar la cantidad de caracteres.\n",
        "3. Comparación: operadores comparativos.\n",
        "4. Concatenación: union de strings con el operador + solo funciona con cadenas de texto\n",
        "5. Repeticion: multiplicar por un entero\n",
        "\n",
        "```\n",
        "# palabra= hola\n",
        "print( palabra *5)\n",
        "```\n",
        "\n",
        "6. Indexación inversa y convencional: encuentra un caracter especifico de un string. Convencional va de de izquierda a derecha y inversa de izquierda a derecha.\n",
        "\n",
        "```\n",
        "# nombre = valerie\n",
        "nombre [3]\n",
        "nombre [-1]\n",
        "```\n",
        "7. Indexacion por intervalos (slicing):\n",
        "8. Inmutabilidad: las cadenas de strings no se pueden modificar\n",
        "9: conversion a numero y viceversa: utiliza la funcion complex y float\n",
        "10. Operador in: permite verificar si un caracter hace parte de un string\n",
        "11. metodos adicionales: lower() y upper(). lower transforma las mayusculas en minusculas y upper las pone en mayusculas.\n",
        "\n",
        "Conclusion: Conocemos las variables y operadores, estos elementos nos permite operar con los strings.\n",
        "\n",
        "\n",
        "\n",
        "\n"
      ],
      "metadata": {
        "id": "BWmgMxsmUL7L"
      }
    },
    {
      "cell_type": "code",
      "source": [
        "string_1= 'Don quijote de la mancha'\n",
        "len(string_1)"
      ],
      "metadata": {
        "colab": {
          "base_uri": "https://localhost:8080/"
        },
        "id": "oFXOWdoHV4_c",
        "outputId": "12ed931b-6f02-4e18-c783-a73e18d048f2"
      },
      "execution_count": null,
      "outputs": [
        {
          "output_type": "execute_result",
          "data": {
            "text/plain": [
              "24"
            ]
          },
          "metadata": {},
          "execution_count": 3
        }
      ]
    },
    {
      "cell_type": "code",
      "source": [
        "print(len('Don quijote de la mancha'))"
      ],
      "metadata": {
        "colab": {
          "base_uri": "https://localhost:8080/"
        },
        "id": "RLZDGdjDWX2q",
        "outputId": "fff011e1-abd4-417b-a31e-1d4dabba79a2"
      },
      "execution_count": null,
      "outputs": [
        {
          "output_type": "stream",
          "name": "stdout",
          "text": [
            "24\n"
          ]
        }
      ]
    },
    {
      "cell_type": "code",
      "source": [
        "'Miguel'+'de'+'Cervantes'\n",
        "'dfgr'+ str(3)\n",
        "nombre= 'Vale'\n",
        "espacio= ' '\n",
        "Apellido= 'Dominguez'\n",
        "nombre+espacio+Apellido"
      ],
      "metadata": {
        "colab": {
          "base_uri": "https://localhost:8080/",
          "height": 35
        },
        "id": "ZEgqrVxuW0GK",
        "outputId": "0e0ea317-fd9b-4cbe-c9c3-8f51fe092666"
      },
      "execution_count": null,
      "outputs": [
        {
          "output_type": "execute_result",
          "data": {
            "text/plain": [
              "'Vale Dominguez'"
            ],
            "application/vnd.google.colaboratory.intrinsic+json": {
              "type": "string"
            }
          },
          "metadata": {},
          "execution_count": 8
        }
      ]
    },
    {
      "cell_type": "markdown",
      "source": [
        "Escriba un programa que genere una contraseña aleatoriamente compuesta por vocales y numeros. para ello, debera recibir del usuario dos valores: cantidad de vocales que debe contener (m) y cantidad de numeros (del 0 al 9)\n",
        "que debe contener (n)\n",
        "\n",
        "Por ejemplo si m = 3 y n = 4, una de las posibles contraseñas generadas seria:\n",
        "a23i6u5\n",
        "recomendacion: use el metodo sample de la libreria random\n"
      ],
      "metadata": {
        "id": "Xq0tAsJUXsv5"
      }
    },
    {
      "cell_type": "code",
      "source": [
        "import random\n",
        "\n",
        "vocales = 'aeiou'\n",
        "numeros = '0123456789'\n",
        "\n",
        "m = int(input('cantidad de vocales: '))\n",
        "n = int(input('cantidad de numeros del 0 al 9: '))\n",
        "\n",
        "generacion_letra = random.sample(vocales,m)\n",
        "generacion_numero = random.sample(numeros,n)\n",
        "\n",
        "contraseña = generacion_letra + generacion_numero\n",
        "\n",
        "random.shuffle(contraseña)\n",
        "\n",
        "contraseña = ''.join(contraseña)\n",
        "\n",
        "print('tu contraseña es', str(contraseña))\n",
        "\n",
        "\n",
        "\n",
        "\n",
        "\n"
      ],
      "metadata": {
        "colab": {
          "base_uri": "https://localhost:8080/"
        },
        "id": "kRXfC16nYgRC",
        "outputId": "601d2b48-35ad-4896-d632-bce8761e8606"
      },
      "execution_count": null,
      "outputs": [
        {
          "output_type": "stream",
          "name": "stdout",
          "text": [
            "cantidad de vocales: 4\n",
            "cantidad de numeros del 0 al 9: 3\n",
            "tu contraseña es 8au2oe9\n"
          ]
        }
      ]
    },
    {
      "cell_type": "markdown",
      "source": [
        "# Listas"
      ],
      "metadata": {
        "id": "z3gbqJrNC5k-"
      }
    },
    {
      "cell_type": "markdown",
      "source": [
        "Son estructuras de datos, unidimensionales y mutables.\n",
        "\n",
        "1.   Creacion: se usan corchetes y los elementos separados por comas\n",
        "2.   heterogenea: se pueden combinar en una lista varios tipos de datos (incluso puede tenerse una lista dentro de otra lista).\n",
        "3. Lista vacia: [], list()\n",
        "4. Comando input\n",
        "\n",
        "\n"
      ],
      "metadata": {
        "id": "0FBGjkI7DBUe"
      }
    },
    {
      "cell_type": "code",
      "source": [
        "lista = input('ingrese una lista usando corchetes')\n",
        "lista = eval(lista)\n",
        "print(lista, 'es de tipo' , type(lista))"
      ],
      "metadata": {
        "id": "WwtWfYw-EVaI"
      },
      "execution_count": null,
      "outputs": []
    },
    {
      "cell_type": "code",
      "source": [
        "# para no hacer uso de los corchetes usamos\n",
        "lista = eval( '[' + input('ingrese una lista') + ']' )\n",
        "print(lista, 'es de tipo' , type(lista))"
      ],
      "metadata": {
        "colab": {
          "base_uri": "https://localhost:8080/"
        },
        "id": "6PW6SiCXEysO",
        "outputId": "5b1acb3e-5d53-4861-a78f-1258f672cffe"
      },
      "execution_count": null,
      "outputs": [
        {
          "output_type": "stream",
          "name": "stdout",
          "text": [
            "ingrese una lista1,2,3\n",
            "[1, 2, 3] es de tipo <class 'list'>\n"
          ]
        }
      ]
    },
    {
      "cell_type": "code",
      "source": [
        "# el comando list sirve para crear listas nuevas con rango o convertir strings en listas\n",
        "lista = list('valerie')\n",
        "print(lista)"
      ],
      "metadata": {
        "colab": {
          "base_uri": "https://localhost:8080/"
        },
        "id": "-ZkONBVsFX2H",
        "outputId": "c14447ba-25c3-4269-d5f7-bca0174e2ec7"
      },
      "execution_count": null,
      "outputs": [
        {
          "output_type": "stream",
          "name": "stdout",
          "text": [
            "['v', 'a', 'l', 'e', 'r', 'i', 'e']\n"
          ]
        }
      ]
    },
    {
      "cell_type": "code",
      "source": [
        "# realizar un programa que solicite al usuario su nombre completo y retorne una lista cuyos elementos sean\n",
        "#cada uno de los nombres y apellidos.\n",
        "nombre = 'ingrese su nombre completo'\n",
        "lista = nombre.split()\n",
        "print(lista)"
      ],
      "metadata": {
        "colab": {
          "base_uri": "https://localhost:8080/"
        },
        "id": "3uYIuOCTF7z5",
        "outputId": "f0158f61-20b0-40f7-d57d-318625a520ba"
      },
      "execution_count": null,
      "outputs": [
        {
          "output_type": "stream",
          "name": "stdout",
          "text": [
            "['ingrese', 'su', 'nombre', 'completo']\n"
          ]
        }
      ]
    },
    {
      "cell_type": "markdown",
      "source": [
        "# Indexacion de listas"
      ],
      "metadata": {
        "id": "8py_zQdaI33g"
      }
    },
    {
      "cell_type": "code",
      "source": [
        "# Se accede a los elementos de la lista a traves de su linea de posicion}\n",
        "lista = [1,2,5,3,4,6,7,8,9,]\n",
        "lista[2]"
      ],
      "metadata": {
        "colab": {
          "base_uri": "https://localhost:8080/"
        },
        "id": "C-zEt9ZCI-PI",
        "outputId": "09ff0726-cf4f-47e2-bc73-59c7c3c44bae"
      },
      "execution_count": null,
      "outputs": [
        {
          "output_type": "execute_result",
          "data": {
            "text/plain": [
              "5"
            ]
          },
          "metadata": {},
          "execution_count": 10
        }
      ]
    },
    {
      "cell_type": "markdown",
      "source": [
        "Indexaciones anidadas: listas dentro de listas. para acceder a los elementos se deben usar operaciones de indexacion anidada."
      ],
      "metadata": {
        "id": "vkimmvATJoXp"
      }
    },
    {
      "cell_type": "code",
      "source": [
        "lista = [[\"Algoritmos\", [3.5,4,5]], [\"Simulacion\", [3,3.5,5]]]\n",
        "lista[0][1][1]"
      ],
      "metadata": {
        "colab": {
          "base_uri": "https://localhost:8080/"
        },
        "id": "P2NuZLJGKDcQ",
        "outputId": "20ec57d8-b8e9-4ed0-b84f-37673d898ce4"
      },
      "execution_count": null,
      "outputs": [
        {
          "output_type": "execute_result",
          "data": {
            "text/plain": [
              "4"
            ]
          },
          "metadata": {},
          "execution_count": 11
        }
      ]
    },
    {
      "cell_type": "code",
      "source": [
        "nombre = input( 'ingrese su nombre completo  ' )\n",
        "lista = nombre.split()\n",
        "extraccion = lista[0][0] + lista[1][0] + lista[2][0]\n",
        "mayusculas = extraccion.upper()\n",
        "print(mayusculas)"
      ],
      "metadata": {
        "colab": {
          "base_uri": "https://localhost:8080/"
        },
        "id": "PLMAHCULM1Hf",
        "outputId": "43492803-8f2a-46a7-8b5b-d3109630f3a9"
      },
      "execution_count": null,
      "outputs": [
        {
          "output_type": "stream",
          "name": "stdout",
          "text": [
            "ingrese su nombre completo  valerie dominguez toro\n",
            "VDT\n"
          ]
        }
      ]
    },
    {
      "cell_type": "code",
      "source": [
        "# podemos utilizar el operador in en las lisftas\n",
        "lista = [10,11,12,13,14]\n",
        "if 11 in lista :\n",
        "  print('el numero 11 esta en la lista')\n",
        "else:\n",
        "  print('el numero 11 no esta en la lista')\n"
      ],
      "metadata": {
        "colab": {
          "base_uri": "https://localhost:8080/"
        },
        "id": "i8plNW0NPzrh",
        "outputId": "ad8f3fb3-2f06-4c35-a1da-b4c9d9716b57"
      },
      "execution_count": null,
      "outputs": [
        {
          "output_type": "stream",
          "name": "stdout",
          "text": [
            "el numero 11 esta en la lista\n"
          ]
        }
      ]
    },
    {
      "cell_type": "code",
      "source": [
        "#lista.append, lista.insert, lista.extend. sirven para agregar elementos a las listas\n",
        "#lista.pop, lista.remove, lista.clear. sirven para eliminar elementos de las listas\n"
      ],
      "metadata": {
        "id": "QuWoy01PQ_JR"
      },
      "execution_count": null,
      "outputs": []
    },
    {
      "cell_type": "code",
      "source": [
        "lista1 = [[\"Probabilidad\",[3,4.5,2.7,5]], [\"Algoritmos\", [2,3,5,4]]]\n",
        "notas = lista1[0][1] + lista1[1][1]\n",
        "notas\n",
        "min(notas)"
      ],
      "metadata": {
        "colab": {
          "base_uri": "https://localhost:8080/"
        },
        "id": "GQNHmV0gToCi",
        "outputId": "89751ece-4f29-4982-b58a-677f5bec812b"
      },
      "execution_count": null,
      "outputs": [
        {
          "output_type": "execute_result",
          "data": {
            "text/plain": [
              "2"
            ]
          },
          "metadata": {},
          "execution_count": 20
        }
      ]
    },
    {
      "cell_type": "markdown",
      "source": [
        "# Tuplas"
      ],
      "metadata": {
        "id": "HZlJGXZaF1Si"
      }
    },
    {
      "cell_type": "markdown",
      "source": [
        "Son estructuras de almacenamiento y se hacen con la funcion tuple(). A diferencia de las listas utilizan parentesis y son inmutables. Al igual que las listas se puede realizar la indexacion normal y anidada."
      ],
      "metadata": {
        "id": "A0QGeA9tF-Vi"
      }
    },
    {
      "cell_type": "code",
      "source": [
        "#Tuplas de un elemento\n",
        "tupla = tuple()\n",
        "type(tupla)\n",
        "print(tupla)\n"
      ],
      "metadata": {
        "colab": {
          "base_uri": "https://localhost:8080/"
        },
        "id": "Q1vnSz8RGWeD",
        "outputId": "b1245934-2b0b-49c0-8b5f-6234e9d036b0"
      },
      "execution_count": null,
      "outputs": [
        {
          "output_type": "stream",
          "name": "stdout",
          "text": [
            "()\n"
          ]
        }
      ]
    },
    {
      "cell_type": "code",
      "source": [
        "#Tuplas vacias\n",
        "tupla = tuple()\n",
        "type(tupla)"
      ],
      "metadata": {
        "id": "f3wYiTR6G2ly"
      },
      "execution_count": null,
      "outputs": []
    },
    {
      "cell_type": "code",
      "source": [
        "#tupla con los elementos de una lista\n",
        "lista = [1,2,3,4,5]\n",
        "tupla = tuple(lista)\n",
        "tupla"
      ],
      "metadata": {
        "id": "cgXQKWDFGztH"
      },
      "execution_count": null,
      "outputs": []
    },
    {
      "cell_type": "markdown",
      "source": [
        "Inmutabilidad"
      ],
      "metadata": {
        "id": "hkxLoQeFHifV"
      }
    },
    {
      "cell_type": "markdown",
      "source": [
        "Funciones y metodos sobre tuplas:\n",
        "\n",
        "\n",
        "*   tupla.count()\n",
        "*   \n",
        "\n"
      ],
      "metadata": {
        "id": "7TAWi-8yHnbl"
      }
    },
    {
      "cell_type": "code",
      "source": [
        "#Eejercicio 1\n",
        "tupla =(1,8,9,3,2,7,10,12,5,21)\n",
        "maximo = max(tupla)\n",
        "minimo = min(tupla)\n",
        "suma =sum(tupla)\n",
        "promedio = suma/len(tupla)\n",
        "print('El valor maximo es', maximo)\n",
        "print('El valor minimo es', minimo)\n",
        "print('El promedio es', promedio)\n"
      ],
      "metadata": {
        "colab": {
          "base_uri": "https://localhost:8080/"
        },
        "id": "1pSmEYHPIDr6",
        "outputId": "df07ab61-e87e-48b6-f836-ed37d4b5b5c5"
      },
      "execution_count": null,
      "outputs": [
        {
          "output_type": "stream",
          "name": "stdout",
          "text": [
            "El valor maximo es 21\n",
            "El valor minimo es 1\n",
            "El promedio es 7.8\n"
          ]
        }
      ]
    },
    {
      "cell_type": "markdown",
      "source": [
        "# Diccionarios"
      ],
      "metadata": {
        "id": "qJm5kN1VL0N0"
      }
    },
    {
      "cell_type": "markdown",
      "source": [],
      "metadata": {
        "id": "coQ4aieqMBNM"
      }
    },
    {
      "cell_type": "code",
      "source": [
        "#Ejercicio 2 diccionarios\n",
        "\n",
        "meses = {'enero':31, 'febrero':28, 'marzo': 31, 'abril':30, 'mayo':31,\n",
        "         'junio':30, 'julio':31, 'agosto':31, 'septiembre':30,\n",
        "         'octubre':31, 'noviembre':30, 'diciembre':31}\n",
        "print(meses.keys())\n",
        "print(meses.values())\n",
        "print(meses.items())"
      ],
      "metadata": {
        "colab": {
          "base_uri": "https://localhost:8080/"
        },
        "id": "tx7vR7b_Q4eM",
        "outputId": "9596091c-04cf-4219-cc0c-9dea6c57a7e2"
      },
      "execution_count": null,
      "outputs": [
        {
          "output_type": "stream",
          "name": "stdout",
          "text": [
            "dict_keys(['enero', 'febrero', 'marzo', 'abril', 'mayo', 'junio', 'julio', 'agosto', 'septiembre', 'octubre', 'noviembre', 'diciembre'])\n",
            "dict_values([31, 28, 31, 30, 31, 30, 31, 31, 30, 31, 30, 31])\n",
            "dict_items([('enero', 31), ('febrero', 28), ('marzo', 31), ('abril', 30), ('mayo', 31), ('junio', 30), ('julio', 31), ('agosto', 31), ('septiembre', 30), ('octubre', 31), ('noviembre', 30), ('diciembre', 31)])\n"
          ]
        }
      ]
    },
    {
      "cell_type": "code",
      "source": [
        "#Ejercicio 3\n",
        "\n",
        "primarios = {'verde':(000,255,000), 'azul':(000,000,255), 'rojo': (255,000,000)}\n",
        "secundarios = {'naranja': (255,166,000), 'amarillo':(255,255,000), 'morado':(128,000,128)}\n",
        "primarios.update(secundarios)\n",
        "print(primarios)\n"
      ],
      "metadata": {
        "colab": {
          "base_uri": "https://localhost:8080/"
        },
        "id": "9J9U6ZmfWRiv",
        "outputId": "db4631d4-bcd9-4bba-f079-8c1745924fc3"
      },
      "execution_count": null,
      "outputs": [
        {
          "output_type": "stream",
          "name": "stdout",
          "text": [
            "{'verde': (0, 255, 0), 'azul': (0, 0, 255), 'rojo': (255, 0, 0), 'naranja': (255, 166, 0), 'amarillo': (255, 255, 0), 'morado': (128, 0, 128)}\n"
          ]
        }
      ]
    },
    {
      "cell_type": "markdown",
      "source": [
        "# Condicionales\n"
      ],
      "metadata": {
        "id": "4pzom3WGmRiQ"
      }
    },
    {
      "cell_type": "markdown",
      "source": [
        "\n",
        "\n",
        "*   Condicionales simples\n",
        "*   Condicionales dobles\n",
        "*   Condicionales anidadas\n",
        "\n",
        "En esta estructura se ejecuta una determinada instrucción cuando se cumple una condición.\n",
        "\n",
        "si la condición es verdadera, entonces ejecuta la instrucción o conjunto de instrucciones,\n",
        "si la condición es falsa, no ejecuta la instrucción o conjunto de instrucciones.\n",
        "\n",
        "\n",
        "\n",
        "\n"
      ],
      "metadata": {
        "id": "rF-v5ddNmWEW"
      }
    },
    {
      "cell_type": "code",
      "source": [
        "# Ejercicio 1 condicional simple\n",
        "numero =input('ingrese un numero entero  ')\n",
        "if int(numero) % 2 ==0:\n",
        "  print('el numero', numero, 'es par')"
      ],
      "metadata": {
        "colab": {
          "base_uri": "https://localhost:8080/"
        },
        "id": "WikvoRnViipi",
        "outputId": "1140261c-514d-4092-b57c-1a0611ec80a7"
      },
      "execution_count": null,
      "outputs": [
        {
          "output_type": "stream",
          "name": "stdout",
          "text": [
            "ingrese un numero entero  100\n",
            "el numero 100 es par\n"
          ]
        }
      ]
    },
    {
      "cell_type": "code",
      "source": [
        "#Ejercicio 2: Genere un programa que lea un número entero y muestre un mensaje informando si es par y múltiplo de 3.\n",
        "numero = input('ingrese un numero entero  ')\n",
        "if int(numero) % 2 == 0 and int(numero) % 3 == 0:\n",
        " print('el numero es par y multiplo de 3')\n",
        "\n"
      ],
      "metadata": {
        "colab": {
          "base_uri": "https://localhost:8080/"
        },
        "id": "XHVLK1nyqWQG",
        "outputId": "5c03919c-7871-4144-a285-c34041fc43c1"
      },
      "execution_count": null,
      "outputs": [
        {
          "name": "stdout",
          "output_type": "stream",
          "text": [
            "ingrese un numero entero  3\n"
          ]
        }
      ]
    },
    {
      "cell_type": "markdown",
      "source": [
        "\n",
        "\n",
        "```\n",
        "#Condicionales dobles de la forma:\n",
        "\n",
        "if (Condición):\n",
        "    Instrucciones a realizar si la condición es verdadera\n",
        "else\n",
        "    Instrucciones a realizar si la condición es falsa\n",
        "```\n",
        "\n"
      ],
      "metadata": {
        "id": "JMCCOql0_Tj2"
      }
    },
    {
      "cell_type": "markdown",
      "source": [
        "Variables transitorias: Su valor cambia a cada caracter dentro de la cadena.\n",
        "for, recorre los elementos de una variable"
      ],
      "metadata": {
        "id": "tjfKKMsUdeIO"
      }
    },
    {
      "cell_type": "code",
      "source": [
        "#Ejercicio 3: considere una lista que contenga los creditos de las asignaturas de un estudiante. cada elemento es en si una lista y sus creditos\n",
        "#diseñe un algoritmo que obtegna la suma de los creditos de las asignaturas cursadas.\n",
        "\n",
        "lista = [['algoritmos', 3], ['TGS', 3], ['PIE', 3], ['ingles 6' ,1], ['Fisica mecanica', 3], ['gestion c', 3]]\n",
        "suma  = 0\n",
        "for i in lista:\n",
        "  suma = suma + i[1]\n",
        "print('la cantidad de creditos para este semestre es', suma)"
      ],
      "metadata": {
        "colab": {
          "base_uri": "https://localhost:8080/"
        },
        "id": "wrOvaygXiiAN",
        "outputId": "419eaf9e-72b0-46e3-bbdc-207e70cbd048"
      },
      "execution_count": null,
      "outputs": [
        {
          "output_type": "stream",
          "name": "stdout",
          "text": [
            "la cantidad de creditos para este semestre es 16\n"
          ]
        }
      ]
    },
    {
      "cell_type": "code",
      "source": [
        "#Genere un programa que dado un numero calcule el valor del factorial\n",
        "numero = int(input('ingrese un numero  '))\n",
        "factorial = 1\n",
        "for i in range(1, numero + 1):\n",
        "  factorial = factorial *i\n",
        "  print('el factorial es', factorial)"
      ],
      "metadata": {
        "colab": {
          "base_uri": "https://localhost:8080/"
        },
        "id": "_T4GfsD5qyM7",
        "outputId": "870a54df-a76e-428e-8a78-314d6b668658"
      },
      "execution_count": null,
      "outputs": [
        {
          "output_type": "stream",
          "name": "stdout",
          "text": [
            "ingrese un numero2\n",
            "el factorial es 1\n",
            "el factorial es 2\n"
          ]
        }
      ]
    },
    {
      "cell_type": "code",
      "source": [
        "#desarrolle un programa que genere los primeros 10 numeros que son divisibles por 2 y 3\n",
        "\n",
        "\n",
        "numeros = []\n",
        "for i in range(1,1000):\n",
        "  if i % 2 ==0 and  i %3 ==0:\n",
        "    numeros.append(i)\n",
        "    if len(numeros) == 10:\n",
        "      break\n",
        "print(numeros)\n",
        "\n",
        "\n"
      ],
      "metadata": {
        "colab": {
          "base_uri": "https://localhost:8080/"
        },
        "id": "XIU-wbH0sft4",
        "outputId": "1e607ea5-4f0e-403f-f14b-dd9a8fa99107"
      },
      "execution_count": null,
      "outputs": [
        {
          "output_type": "stream",
          "name": "stdout",
          "text": [
            "[6, 12, 18, 24, 30, 36, 42, 48, 54, 60]\n"
          ]
        }
      ]
    },
    {
      "cell_type": "markdown",
      "source": [
        "# Ciclos"
      ],
      "metadata": {
        "id": "cdWuEa5ywf1c"
      }
    },
    {
      "cell_type": "markdown",
      "source": [
        "# Funciones"
      ],
      "metadata": {
        "id": "qvyBuCLeNR-O"
      }
    },
    {
      "cell_type": "markdown",
      "source": [
        "Sirven para reutilizar codigo y construir programaas modulares. Son un codigo que se diseña y se modula para poderlo utilizar posteriormente.\n",
        "\n",
        "las funciones requieren la definicion de tres conceptos basicos:\n",
        "\n",
        "\n",
        "*   Nombre\n",
        "*   Entradas y salidas\n",
        "*   Elemento del codigo\n",
        "\n",
        "\n",
        "\n"
      ],
      "metadata": {
        "id": "IYzgWKcLN1NF"
      }
    },
    {
      "cell_type": "markdown",
      "source": [
        "Una funcion calcula un valor independiente al resto del programa. tiene tres componentes: los parametros de entrada, el codigo y el resultado. se utiliza el\n",
        "\n",
        "```\n",
        "# def\n",
        "return\n",
        "```\n",
        "\n"
      ],
      "metadata": {
        "id": "NR8rVQcxQErM"
      }
    },
    {
      "cell_type": "code",
      "source": [
        "#Eejemplo\n",
        "def f(x,y):\n",
        "  z = x**3 +y**2 + 5*x + 3\n",
        "  return z\n",
        "resultado = f(2,3)\n",
        "print(resultado)"
      ],
      "metadata": {
        "colab": {
          "base_uri": "https://localhost:8080/"
        },
        "id": "1hdAd7TvUGGS",
        "outputId": "d47b99de-a927-47a8-d637-b71ef943d40a"
      },
      "execution_count": null,
      "outputs": [
        {
          "output_type": "stream",
          "name": "stdout",
          "text": [
            "30\n"
          ]
        }
      ]
    },
    {
      "cell_type": "markdown",
      "source": [
        "Documentacion de un codigo:\n",
        "Las funciones son las fronteras naturales, delimita el limite de un codigo."
      ],
      "metadata": {
        "id": "ks4lQMIRfYz5"
      }
    },
    {
      "cell_type": "code",
      "source": [
        "# Creacion funcion oldest, recibe dos fechas en formato DD-MM-AAAA, y devuelve la mas antigua\n",
        "def oldest(d1, d2):\n",
        "  d1_num = int(d1[6:] + d1[3:5] + d1[:2] )\n",
        "  d2_num = int(d2[6:] + d2[3:5] + d2[:2] )\n",
        "  if d1_num < d2_num:\n",
        "    return d1\n",
        "  else:\n",
        "    return d2\n",
        "\n",
        "  a = input('ingrese su fecha de nacimiento en formato DD-MM-AAAA')\n",
        "  b = input('ingrese su fecha de nacimiento en formato DD-MM-AAAA')\n",
        "  print('la fecha mas antigua es', oldest(a,b))\n"
      ],
      "metadata": {
        "id": "evrNbOanf29h"
      },
      "execution_count": null,
      "outputs": []
    },
    {
      "cell_type": "markdown",
      "source": [
        "La especificacion de una funcion tiene dos partes: suposiciones y garantias"
      ],
      "metadata": {
        "id": "2lFt86ExiQbb"
      }
    },
    {
      "cell_type": "code",
      "source": [
        "# Definir una funcion que recibe el primer nombre y el primer apellido e una persona y retorna sus iniciales\n",
        "# Para ello considere tres parametros: ( nombre, apellido, booleano(true: orden natural, false: en orden reverso))\n",
        "\n",
        "def initials( name, lastname, booleano):\n",
        "  if booleano == 1:\n",
        "    return name[0] + lastname[0]\n",
        "  else:\n",
        "    return lastname[0] + name[0]\n",
        "\n",
        "a = input('ingrese su nombre: ')\n",
        "b = input('ingrese su apellido: ')\n",
        "c = int(input('ingrese 1 si es verdadero y 2 si es falso: '))\n",
        "initials(a,b,c)\n",
        "\n",
        "name1 = initials(a,b,True)\n",
        "print(name1.upper())"
      ],
      "metadata": {
        "colab": {
          "base_uri": "https://localhost:8080/"
        },
        "id": "v7F-t3iUrFPR",
        "outputId": "c1c365da-13aa-400c-912b-3ef8d6d62b0a"
      },
      "execution_count": null,
      "outputs": [
        {
          "output_type": "stream",
          "name": "stdout",
          "text": [
            "ingrese su nombre: hghgfh\n",
            "ingrese su apellido: tertret\n",
            "ingrese 1 si es verdadero y 2 si es falso: 3\n",
            "HT\n"
          ]
        }
      ]
    },
    {
      "cell_type": "code",
      "source": [
        "# Definir una funcion que recibe el primer nombre y el primer apellido e una persona y retorna sus iniciales\n",
        "# Para ello considere tres parametros: ( nombre, apellido, booleano(true: orden natural, false: en orden reverso))\n",
        "\n",
        "def initials(name, lastname, bool):\n",
        "  if bool:\n",
        "    return name[0] + lastname[0]\n",
        "  else:\n",
        "    return lastname[0] + name[0]\n",
        "\n",
        "nombre = input('ingrese su nombre: ')\n",
        "apellido = input('ingrese su primer apellido: ')\n",
        "Orden = input('ingrese True para orden natural o False para orden invertido: ')\n",
        "if Orden == 'True':\n",
        "  Orden = True\n",
        "else:\n",
        "  Orden = False\n",
        "\n",
        "print(initials(nombre, apellido, Orden).upper())\n"
      ],
      "metadata": {
        "colab": {
          "base_uri": "https://localhost:8080/"
        },
        "id": "0tY8LJaOignq",
        "outputId": "c8455e49-0dd0-482e-c016-230d56e66b56"
      },
      "execution_count": null,
      "outputs": [
        {
          "output_type": "stream",
          "name": "stdout",
          "text": [
            "ingrese su nombre: valerie\n",
            "ingrese su primer apellido: dominguez\n",
            "ingrese True para orden natural o False para orden invertido: False\n",
            "DV\n"
          ]
        }
      ]
    },
    {
      "cell_type": "markdown",
      "source": [
        "# Ejercicios"
      ],
      "metadata": {
        "id": "zb6xraj9wjm6"
      }
    },
    {
      "cell_type": "markdown",
      "source": [
        "1. Considere un programa que dados dos números, el primero de ellos correspondiente al número total de kilos que deben empacarse en cajas (a = 207kg) y la capacidad en kilos de cada caja (b = 12 kilos).\n",
        "\n",
        "*  Calcule el número de cajas necesarias para empacar toda la mercancía\n",
        "*   Calcule la cantidad que quedaría sin empacar si solo pueden despacharse cajas completas\n",
        "*   Determine el número de cajas necesarias para empacar toda la mercancía"
      ],
      "metadata": {
        "id": "Kgp0-P_I8MWs"
      }
    },
    {
      "cell_type": "code",
      "source": [
        "# Ejercicio 1 entradas\n",
        "import math\n",
        "kilos = int(270) # kg\n",
        "capacidad = int(12) #kg\n",
        "\n",
        "cajas_necesarias = math.ceil(kilos/capacidad)\n",
        "cajas_restantes = math.ceil((kilos/capacidad)/capacidad)\n",
        "\n",
        "print('se necesitan', cajas_necesarias, 'cajas')\n",
        "print('quedaran', cajas_restantes, 'cajas sin empacar')"
      ],
      "metadata": {
        "colab": {
          "base_uri": "https://localhost:8080/"
        },
        "id": "UaKpp_dk8WlX",
        "outputId": "dfaf83da-c793-4aa2-8178-d6616438f6b4"
      },
      "execution_count": null,
      "outputs": [
        {
          "output_type": "stream",
          "name": "stdout",
          "text": [
            "se necesitan 23 cajas\n",
            "quedaran 2 cajas sin empacar\n"
          ]
        }
      ]
    }
  ]
}